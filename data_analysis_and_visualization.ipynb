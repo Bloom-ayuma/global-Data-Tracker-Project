import pandas as pd
import matplotlib.pyplot as plt
import seaborn as sns

# Step 1: Loading and Inspecting Data

# Load the dataset (Iris dataset in this case)
from sklearn.datasets import load_iris
import numpy as np

# Loading the Iris dataset from sklearn
iris = load_iris()
df = pd.DataFrame(data= np.c_[iris['data'], iris['target']],
                  columns= iris['feature_names'] + ['species'])

# Display the first few rows to inspect the data
print("First few rows of the dataset:")
print(df.head())

# Check the structure of the dataset
print("\nDataset Info:")
print(df.info())

# Check for missing values
print("\nMissing values in each column:")
print(df.isnull().sum())

# Step 2: Data Cleaning

# Since there are no missing values in the Iris dataset, we don't need to handle missing data.
# But in case of missing values in a dataset, we can either drop or fill them:
# df.fillna(df.mean(), inplace=True)
# df.dropna(inplace=True)

# Step 3: Basic Data Analysis

# Compute basic statistics for numerical columns
print("\nBasic Statistics of the Dataset:")
print(df.describe())

# Group by species and compute the mean of numerical columns
species_group = df.groupby('species').mean()
print("\nMean values per species:")
print(species_group)

# Step 4: Data Visualization with Matplotlib & Seaborn

# Visualization 1: Line Chart (e.g., Petal length over species)
plt.figure(figsize=(8, 6))
sns.lineplot(data=df, x='species', y='petal length (cm)', marker='o')
plt.title('Petal Length Across Species')
plt.xlabel('Species')
plt.ylabel('Petal Length (cm)')
plt.show()

# Visualization 2: Bar Chart (Average sepal length per species)
plt.figure(figsize=(8, 6))
df.groupby('species')['sepal length (cm)'].mean().plot(kind='bar', color='skyblue', edgecolor='black')
plt.title('Average Sepal Length per Species')
plt.xlabel('Species')
plt.ylabel('Average Sepal Length (cm)')
plt.xticks(rotation=45)
plt.show()

# Visualization 3: Histogram of Sepal Width
plt.figure(figsize=(8, 6))
df['sepal width (cm)'].plot(kind='hist', bins=15, color='lightgreen', edgecolor='black')
plt.title('Distribution of Sepal Width')
plt.xlabel('Sepal Width (cm)')
plt.ylabel('Frequency')
plt.show()

# Visualization 4: Scatter Plot (Sepal Length vs. Petal Length)
plt.figure(figsize=(8, 6))
sns.scatterplot(data=df, x='sepal length (cm)', y='petal length (cm)', hue='species')
plt.title('Sepal Length vs Petal Length')
plt.xlabel('Sepal Length (cm)')
plt.ylabel('Petal Length (cm)')
plt.legend(title='Species')
plt.show()
